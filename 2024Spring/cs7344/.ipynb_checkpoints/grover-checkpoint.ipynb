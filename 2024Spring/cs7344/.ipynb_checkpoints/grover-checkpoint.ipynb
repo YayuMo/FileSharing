{
 "cells": [
  {
   "cell_type": "code",
   "execution_count": 2,
   "id": "134461d3-9ca5-4f8f-b8f4-6a593e606f08",
   "metadata": {},
   "source": [
    "# Built-in modules\n",
    "import math\n",
    "\n",
    "# Imports from Qiskit\n",
    "from qiskit import QuantumCircuit\n",
    "from qiskit.circuit.library import GroverOperator, MCMT, ZGate\n",
    "from qiskit.visualization import plot_distribution\n",
    "from qiskit_aer import Aer\n",
    "\n",
    "# Imports from Qiskit Runtime\n",
    "from qiskit_ibm_runtime import QiskitRuntimeService\n",
    "from qiskit_ibm_runtime import SamplerV2 as Sampler"
   ],
   "outputs": []
  },
  {
   "cell_type": "code",
   "execution_count": 3,
   "id": "959d89b7-e90a-443b-b8ef-9df08806bb86",
   "metadata": {},
   "source": [
    "# To run on hardware, select the backend with the fewest number of jobs in the queue\n",
    "# service = QiskitRuntimeService(channel=\"ibm_quantum\")\n",
    "# backend = service.least_busy(operational=True, simulator=False)\n",
    "# backend.name\n",
    "\n",
    "simulator = Aer.get_backend('qasm_simulator')\n",
    "state_vector_sim = Aer.get_backend('statevector_simulator')"
   ],
   "outputs": []
  },
  {
   "cell_type": "code",
   "execution_count": 4,
   "id": "1d9edb1f-e4e6-4b50-a314-e3fc8a4997b4",
   "metadata": {},
   "source": [
    "def grover_oracle(marked_states):\n",
    "    \"\"\"Build a Grover oracle for multiple marked states\n",
    "\n",
    "    Here we assume all input marked states have the same number of bits\n",
    "\n",
    "    Parameters:\n",
    "        marked_states (str or list): Marked states of oracle\n",
    "\n",
    "    Returns:\n",
    "        QuantumCircuit: Quantum circuit representing Grover oracle\n",
    "    \"\"\"\n",
    "    if not isinstance(marked_states, list):\n",
    "        marked_states = [marked_states]\n",
    "    # Compute the number of qubits in circuit\n",
    "    num_qubits = len(marked_states[0])\n",
    "\n",
    "    qc = QuantumCircuit(num_qubits)\n",
    "    # Mark each target state in the input list\n",
    "    for target in marked_states:\n",
    "        # Flip target bit-string to match Qiskit bit-ordering\n",
    "        rev_target = target[::-1]\n",
    "        # Find the indices of all the '0' elements in bit-string\n",
    "        zero_inds = [ind for ind in range(num_qubits) if rev_target.startswith(\"0\", ind)]\n",
    "        # Add a multi-controlled Z-gate with pre- and post-applied X-gates (open-controls)\n",
    "        # where the target bit-string has a '0' entry\n",
    "        qc.x(zero_inds)\n",
    "        qc.compose(MCMT(ZGate(), num_qubits - 1, 1), inplace=True)\n",
    "        qc.x(zero_inds)\n",
    "    return qc"
   ],
   "outputs": []
  },
  {
   "cell_type": "code",
   "execution_count": 5,
   "id": "3ea8d1e0-d6db-46ec-8766-4c5c1b095f17",
   "metadata": {},
   "source": [
    "marked_states = [\"011\", \"100\"]\n",
    "\n",
    "oracle = grover_oracle(marked_states)\n",
    "oracle.draw(output=\"mpl\", style=\"iqp\")"
   ],
   "outputs": []
  },
  {
   "cell_type": "code",
   "execution_count": 6,
   "id": "db8f60b8-d1e8-4e0c-ab84-e2d3748e3a91",
   "metadata": {},
   "source": [
    "grover_op = GroverOperator(oracle)\n",
    "grover_op.decompose().draw(output=\"mpl\", style=\"iqp\")"
   ],
   "outputs": []
  },
  {
   "cell_type": "code",
   "execution_count": 7,
   "id": "db5da41e-3561-4502-9dfa-26ae6e28e0b1",
   "metadata": {},
   "source": [
    "optimal_num_iterations = math.floor(\n",
    "    math.pi / (4 * math.asin(math.sqrt(len(marked_states) / 2**grover_op.num_qubits)))\n",
    ")"
   ],
   "outputs": []
  },
  {
   "cell_type": "code",
   "execution_count": 8,
   "id": "988eecbd-0bee-4203-bb38-b3d44e6650ba",
   "metadata": {},
   "source": [
    "qc = QuantumCircuit(grover_op.num_qubits)\n",
    "# Create even superposition of all basis states\n",
    "qc.h(range(grover_op.num_qubits))\n",
    "# Apply Grover operator the optimal number of times\n",
    "qc.compose(grover_op.power(optimal_num_iterations), inplace=True)\n",
    "# Measure all qubits\n",
    "qc.measure_all()\n",
    "qc.draw(output=\"mpl\", style=\"iqp\")"
   ],
   "outputs": []
  },
  {
   "cell_type": "code",
   "execution_count": 9,
   "id": "86eca490-088d-4043-83a2-88182310ad00",
   "metadata": {},
   "source": [
    "from qiskit.transpiler.preset_passmanagers import generate_preset_pass_manager\n",
    "\n",
    "target = simulator.target\n",
    "pm = generate_preset_pass_manager(target=target, optimization_level=3)\n",
    "\n",
    "circuit_isa = pm.run(qc)\n",
    "circuit_isa.draw(output=\"mpl\", idle_wires=False, style=\"iqp\")"
   ],
   "outputs": []
  },
  {
   "cell_type": "code",
   "execution_count": 10,
   "id": "93da3e21-f935-4287-9734-854d58613ded",
   "metadata": {},
   "source": [
    "# To run on local simulator:\n",
    "#   1. Use the SatetvectorSampler from qiskit.primitives instead\n",
    "sampler = Sampler(backend=simulator)\n",
    "sampler.options.default_shots = 10_000\n",
    "result = sampler.run([circuit_isa]).result()\n",
    "dist = result[0].data.meas.get_counts()"
   ],
   "outputs": []
  },
  {
   "cell_type": "code",
   "execution_count": 11,
   "id": "58a80064-6cca-4ed4-b5c3-603239ddf97c",
   "metadata": {},
   "source": [
    "plot_distribution(dist)"
   ],
   "outputs": []
  },
  {
   "cell_type": "code",
   "execution_count": null,
   "id": "a2c430e8-5cae-409d-a195-7b3f179c2ea3",
   "metadata": {},
   "source": [],
   "outputs": []
  }
 ],
 "metadata": {
  "kernelspec": {
   "display_name": "Python 3 (ipykernel)",
   "language": "python",
   "name": "python3"
  },
  "language_info": {
   "codemirror_mode": {
    "name": "ipython",
    "version": 3
   },
   "file_extension": ".py",
   "mimetype": "text/x-python",
   "name": "python",
   "nbconvert_exporter": "python",
   "pygments_lexer": "ipython3",
   "version": "3.10.14"
  }
 },
 "nbformat": 4,
 "nbformat_minor": 5
}

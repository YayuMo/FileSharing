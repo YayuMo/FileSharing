{
 "cells": [
  {
   "cell_type": "code",
   "execution_count": 11,
   "id": "34b80fbb-fa9b-41b9-acf6-a8bcdb9f2c06",
   "metadata": {},
   "source": [
    "import numpy as np\n",
    "import qiskit\n",
    "from qiskit import QuantumCircuit\n",
    "from qiskit_aer import Aer\n",
    "from qiskit.visualization import plot_distribution\n",
    "from qiskit.circuit.library import GroverOperator, MCMT, ZGate\n",
    "from qiskit.quantum_info import Operator\n",
    "import math\n",
    "import cmath\n",
    "from qiskit_ibm_runtime import SamplerV2 as Sampler\n",
    "from qiskit.quantum_info import Statevector\n",
    "import matplotlib.pyplot as plt"
   ],
   "outputs": []
  },
  {
   "cell_type": "markdown",
   "id": "ecd0f09b-7a5b-45da-aa77-100272e43c9b",
   "metadata": {},
   "source": [
    "- Get simulator"
   ]
  },
  {
   "cell_type": "code",
   "execution_count": 12,
   "id": "e083ebe1-904c-4423-a2f0-b14b6c4a88ef",
   "metadata": {},
   "source": [
    "SIM = Aer.get_backend('qasm_simulator')"
   ],
   "outputs": []
  },
  {
   "cell_type": "markdown",
   "id": "2cb52e12-8586-4e1c-a471-bf53b0089435",
   "metadata": {},
   "source": [
    "## Build Traditional Function"
   ]
  },
  {
   "cell_type": "markdown",
   "id": "bc08f1f2-040d-408e-a0d1-10ad5a87be02",
   "metadata": {},
   "source": [
    "- VQC-based SoftMax"
   ]
  },
  {
   "cell_type": "code",
   "execution_count": 13,
   "id": "ac76a0e8-66c1-481c-8eea-0133d3342143",
   "metadata": {},
   "source": [
    "def softmaxVQC(args):\n",
    "    # param:\n",
    "    # args: {\n",
    "    #\n",
    "    # }\n",
    "    vec = args[\"data\"]\n",
    "    arr = np.zeros(len(vec),dtype = np.complex_)\n",
    "    sum = 0\n",
    "    for item in vec:\n",
    "        sum += cmath.e ** item\n",
    "    for i in range(len(vec)):\n",
    "        arr[i] = cmath.sqrt(cmath.e ** vec[i] / sum)\n",
    "    return arr\n",
    "\n",
    "args = {\n",
    "    \"data\" : [-0.5, 0.5, 0.5, -0.5]\n",
    "}\n",
    "arr = softmaxVQC(args)\n",
    "print(arr)\n",
    "x = [\"00\", \"01\", \"10\", \"11\"]\n",
    "plt.bar(x, arr)"
   ],
   "outputs": []
  },
  {
   "cell_type": "markdown",
   "id": "39a04449-7d9e-4b90-8475-8e00cab193d6",
   "metadata": {},
   "source": [
    "- VQC-based sigmoid (Improved SoftMax"
   ]
  },
  {
   "cell_type": "code",
   "execution_count": 14,
   "id": "f7971ee1-8633-4b8d-a85c-8f4536df6d6f",
   "metadata": {},
   "source": [
    "def sigmoidVQC(args):\n",
    "    vec = args[\"data\"]\n",
    "    arr = np.zeros(len(vec),dtype = np.complex_)\n",
    "    for i in range(len(vec)):\n",
    "        arr[i] = 100 / (1 + cmath.sqrt(cmath.e ** (-vec[i])))\n",
    "    args[\"data\"] = arr\n",
    "    return softmaxVQC(args)\n",
    "    \n",
    "args = {\n",
    "    \"data\" : [-0.5, 0.5, 0.5, -0.5]\n",
    "}\n",
    "arr = sigmoidVQC(args)\n",
    "print(arr)\n",
    "x = [\"00\", \"01\", \"10\", \"11\"]\n",
    "plt.bar(x, arr)"
   ],
   "outputs": []
  },
  {
   "cell_type": "markdown",
   "id": "d977305d-a46f-41d0-9ac3-7a15d9ac82b9",
   "metadata": {},
   "source": [
    "- VQC-based ReLU"
   ]
  },
  {
   "cell_type": "code",
   "execution_count": 15,
   "id": "17b30848-ce87-48d4-966d-0b0d83ba3be0",
   "metadata": {},
   "source": [
    "def reluVQC(args):\n",
    "    vec = args[\"data\"]\n",
    "    n = len(args[\"markedState\"])\n",
    "    arr = np.zeros(len(vec))\n",
    "    for i in range(len(vec)):\n",
    "        if vec[i] > 0:\n",
    "            arr[i] = 1 / math.sqrt(n)\n",
    "        else:\n",
    "            arr[i] = 0\n",
    "    return arr\n",
    "\n",
    "args = {\n",
    "    \"markedState\": [\"00\", \"11\", \"10\"],\n",
    "    \"data\" : [0.5, -0.5, 0.5, 0.5]\n",
    "}\n",
    "arr = reluVQC(args)\n",
    "print(arr)\n",
    "x = [\"00\", \"01\", \"10\", \"11\"]\n",
    "plt.bar(x, arr)"
   ],
   "outputs": []
  },
  {
   "cell_type": "markdown",
   "id": "fca25554-058c-4c16-aebf-1bde4317fe4e",
   "metadata": {},
   "source": [
    "## Build circuit components"
   ]
  },
  {
   "cell_type": "markdown",
   "id": "974c28bf-8838-4b92-b437-103a0b88e138",
   "metadata": {},
   "source": [
    "- Build superposition"
   ]
  },
  {
   "cell_type": "code",
   "execution_count": 20,
   "id": "0242bde1-f5f2-4ab7-a3cf-2bc4ea403314",
   "metadata": {},
   "source": [
    "def initQC(n):\n",
    "    # params: n -- num of qubits\n",
    "    qc = QuantumCircuit(n, n)\n",
    "\n",
    "    for i in range(n):\n",
    "        qc.h(i)\n",
    "    qc.barrier() # differentiate area\n",
    "\n",
    "    return qc\n",
    "\n",
    "qc = initQC(3)\n",
    "qc.draw(output='mpl')"
   ],
   "outputs": []
  },
  {
   "cell_type": "markdown",
   "id": "1673cfad-ce82-4be3-ae83-a749658006c0",
   "metadata": {},
   "source": [
    "- Build Grover's Oracle according to the marked states\n",
    "  - The code is from https://mqt.readthedocs.io/projects/ddsim/en/latest/Primitives.html"
   ]
  },
  {
   "cell_type": "code",
   "execution_count": 21,
   "id": "3e4083d8-cf37-4261-856a-66cb416d8210",
   "metadata": {},
   "source": [
    "def grover_oracle(marked_states):\n",
    "    \"\"\"Build a Grover oracle for multiple marked states\n",
    "\n",
    "    Here we assume all input marked states have the same number of bits\n",
    "\n",
    "    Parameters:\n",
    "        marked_states (str or list): Marked states of oracle\n",
    "\n",
    "    Returns:\n",
    "        QuantumCircuit: Quantum circuit representing Grover oracle\n",
    "    \"\"\"\n",
    "    if not isinstance(marked_states, list):\n",
    "        marked_states = [marked_states]\n",
    "    # Compute the number of qubits in circuit\n",
    "    num_qubits = len(marked_states[0])\n",
    "\n",
    "    qc = QuantumCircuit(num_qubits)\n",
    "    # Mark each target state in the input list\n",
    "    for target in marked_states:\n",
    "        # Flip target bit-string to match Qiskit bit-ordering\n",
    "        rev_target = target[::-1]\n",
    "        # Find the indices of all the '0' elements in bit-string\n",
    "        zero_inds = [ind for ind in range(num_qubits) if rev_target.startswith(\"0\", ind)]\n",
    "        # Add a multi-controlled Z-gate with pre- and post-applied X-gates (open-controls)\n",
    "        # where the target bit-string has a '0' entry\n",
    "        qc.x(zero_inds)\n",
    "        qc.compose(MCMT(ZGate(), num_qubits - 1, 1), inplace=True)\n",
    "        qc.x(zero_inds)\n",
    "    qc.barrier()\n",
    "    return qc\n",
    "\n",
    "marked_states = [\"001\", \"110\"]\n",
    "qc = grover_oracle(marked_states)\n",
    "qc.draw(output='mpl')"
   ],
   "outputs": []
  },
  {
   "cell_type": "markdown",
   "id": "e740ac5e-eb0a-485c-bf8c-570da483e9db",
   "metadata": {},
   "source": [
    "- Build ReverseGate"
   ]
  },
  {
   "cell_type": "code",
   "execution_count": 25,
   "id": "907e3a46-b245-44b7-acc1-7e0859b26e12",
   "metadata": {},
   "source": [
    "def buildRev(n):\n",
    "    # params: n -- num of qubits\n",
    "    qc = QuantumCircuit(n, n)\n",
    "    qcIndex = list(range(n))\n",
    "    mat = np.zeros((2**n, 2**n))\n",
    "    np.fill_diagonal(mat, -1)\n",
    "    RevGate = Operator(mat)\n",
    "    qc.append(RevGate, qcIndex)\n",
    "    qc.barrier()\n",
    "    return qc\n",
    "\n",
    "qc = buildRev(3)\n",
    "qc.decompose().draw(output='mpl')"
   ],
   "outputs": []
  },
  {
   "cell_type": "markdown",
   "id": "fb9d02eb-eb33-41ea-9ad6-be0d48de5d42",
   "metadata": {},
   "source": [
    "- Build processed state vector measurements"
   ]
  },
  {
   "cell_type": "code",
   "execution_count": 29,
   "id": "bbca83c5-a744-4db3-bb0d-861d0a646262",
   "metadata": {},
   "source": [
    "def measurement(n, statevector):\n",
    "    qc = QuantumCircuit(n, n)\n",
    "    qc.initialize(statevector.data)\n",
    "    qc.measure_all()\n",
    "\n",
    "    return qc\n",
    "\n",
    "statevector = Statevector([0, 1 / math.sqrt(2), 1 / math.sqrt(2), 0])\n",
    "qc = measurement(2, statevector)\n",
    "qc.draw(output='mpl')"
   ],
   "outputs": []
  },
  {
   "cell_type": "markdown",
   "id": "a8b1f42c-a97a-4e13-ba41-ccef2a97db18",
   "metadata": {},
   "source": [
    "## Compose the circuit"
   ]
  },
  {
   "cell_type": "code",
   "execution_count": 31,
   "id": "5fa6c417-8522-4e35-a1cb-689cc72d7d12",
   "metadata": {},
   "source": [
    "def composeCircuit(n, oracle, marked_state, func):\n",
    "    qc = QuantumCircuit(n, n)\n",
    "    initial = initQC(n)\n",
    "    rev = buildRev(n)\n",
    "    qc = qc.compose(initial)\n",
    "    qc = qc.compose(oracle)\n",
    "    qc = qc.compose(rev)\n",
    "    statevector = Statevector.from_instruction(qc)\n",
    "    args = {}\n",
    "    args[\"markedState\"] = marked_state\n",
    "    args[\"data\"] = statevector.data\n",
    "    statevector = Statevector(func(args))\n",
    "    return statevector"
   ],
   "outputs": []
  },
  {
   "cell_type": "markdown",
   "id": "20795f47-4762-4edb-bd01-522e703435ad",
   "metadata": {},
   "source": [
    "## Run Simulation"
   ]
  },
  {
   "cell_type": "markdown",
   "id": "3df14f9f-12df-47d9-9263-1bcc6edfa362",
   "metadata": {},
   "source": [
    "- Simulation function"
   ]
  },
  {
   "cell_type": "code",
   "execution_count": 36,
   "id": "f015af0d-19ac-4746-923b-2944e0da495d",
   "metadata": {},
   "source": [
    "def simulate(qc, shots, backend):\n",
    "    sampler = Sampler(backend=backend)\n",
    "    sampler.options.default_shots = shots\n",
    "    result = sampler.run([qc]).result()\n",
    "    # print(result)\n",
    "    dist = result[0].data.meas.get_counts()\n",
    "    return dist"
   ],
   "outputs": []
  },
  {
   "cell_type": "markdown",
   "id": "007081e9-1854-40ad-8f50-7e6786b41b85",
   "metadata": {},
   "source": [
    "- Simulation on Softmax"
   ]
  },
  {
   "cell_type": "code",
   "execution_count": 39,
   "id": "8b7c19f0-c299-43c1-af70-6b3f8007af71",
   "metadata": {},
   "source": [
    "marked_states = [\"110\", \"011\"]\n",
    "oracle = grover_oracle(marked_states)\n",
    "statevector = composeCircuit(3, oracle, marked_states, softmaxVQC)\n",
    "qc = measurement(3, statevector)\n",
    "dist = simulate(qc, 100000, SIM)\n",
    "print(statevector)\n",
    "plot_distribution(dist)"
   ],
   "outputs": []
  },
  {
   "cell_type": "markdown",
   "id": "817210d4-bcb2-43c8-8d5a-50bc61d70d21",
   "metadata": {},
   "source": [
    "- Simulation on Sigmoid"
   ]
  },
  {
   "cell_type": "code",
   "execution_count": 40,
   "id": "c548efe3-8c25-432e-8936-314e4d67881a",
   "metadata": {},
   "source": [
    "marked_states = [\"110\", \"011\"]\n",
    "oracle = grover_oracle(marked_states)\n",
    "statevector = composeCircuit(3, oracle, marked_states, sigmoidVQC)\n",
    "qc = measurement(3, statevector)\n",
    "dist = simulate(qc, 100000, SIM)\n",
    "print(statevector)\n",
    "plot_distribution(dist)"
   ],
   "outputs": []
  },
  {
   "cell_type": "markdown",
   "id": "895f092f-3727-4ee2-ae98-03f93e1ff0a3",
   "metadata": {},
   "source": [
    "- Simulation on ReLU"
   ]
  },
  {
   "cell_type": "code",
   "execution_count": 41,
   "id": "e906e912-9c2e-4f87-9ef2-976ba3b8e7b4",
   "metadata": {},
   "source": [
    "marked_states = [\"110\", \"011\"]\n",
    "oracle = grover_oracle(marked_states)\n",
    "statevector = composeCircuit(3, oracle, marked_states, reluVQC)\n",
    "qc = measurement(3, statevector)\n",
    "dist = simulate(qc, 100000, SIM)\n",
    "print(statevector)\n",
    "plot_distribution(dist)"
   ],
   "outputs": []
  },
  {
   "cell_type": "code",
   "execution_count": null,
   "id": "b4a2380f-3814-410e-9c8c-5ba41b78c8fe",
   "metadata": {},
   "source": [],
   "outputs": []
  }
 ],
 "metadata": {
  "kernelspec": {
   "display_name": "Python 3 (ipykernel)",
   "language": "python",
   "name": "python3"
  },
  "language_info": {
   "codemirror_mode": {
    "name": "ipython",
    "version": 3
   },
   "file_extension": ".py",
   "mimetype": "text/x-python",
   "name": "python",
   "nbconvert_exporter": "python",
   "pygments_lexer": "ipython3",
   "version": "3.10.14"
  }
 },
 "nbformat": 4,
 "nbformat_minor": 5
}

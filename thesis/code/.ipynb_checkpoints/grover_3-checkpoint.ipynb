{
 "cells": [
  {
   "cell_type": "code",
   "execution_count": 1,
   "id": "37d16f8b-d287-42e0-9caf-7d833b1745dc",
   "metadata": {},
   "source": [
    "import qiskit\n",
    "from qiskit import QuantumCircuit\n",
    "from qiskit_aer import Aer\n",
    "from qiskit.visualization import plot_distribution\n",
    "from qiskit.circuit.library import GroverOperator, MCMT, ZGate"
   ],
   "outputs": []
  },
  {
   "cell_type": "markdown",
   "id": "9fae0ef6-23a3-43af-87b8-85423979dbb1",
   "metadata": {},
   "source": [
    "- get simulator"
   ]
  },
  {
   "cell_type": "code",
   "execution_count": 2,
   "id": "792d95bd-1bff-40c7-b7f5-ed8e135659ee",
   "metadata": {},
   "source": [
    "simulator = Aer.get_backend('qasm_simulator')"
   ],
   "outputs": []
  },
  {
   "cell_type": "markdown",
   "id": "a589e8f5-e55e-4d78-8ef1-6ee22640b0af",
   "metadata": {},
   "source": [
    "- build superposition"
   ]
  },
  {
   "cell_type": "code",
   "execution_count": 3,
   "id": "d900b1e8-3976-45d9-9f7d-6d951fae9edb",
   "metadata": {},
   "source": [
    "def initQC(n):\n",
    "    # params: n -- num of qubits\n",
    "    qc = QuantumCircuit(n, n)\n",
    "\n",
    "    for i in range(n):\n",
    "        qc.h(i)\n",
    "    qc.barrier() # differentiate area\n",
    "    return qc\n",
    "\n",
    "initCircuit2Q = initQC(2)\n",
    "initCircuit2Q.draw(output='mpl')"
   ],
   "outputs": []
  },
  {
   "cell_type": "markdown",
   "id": "46a0df08-2817-45c4-bf5d-dafa4623ed33",
   "metadata": {},
   "source": [
    "- build oracle to search $\\ket{11}$ - as example"
   ]
  },
  {
   "cell_type": "code",
   "execution_count": 4,
   "id": "f14efcb7-7d19-425d-99f9-91b7e8f2678f",
   "metadata": {},
   "source": [
    "def groverOracle3():\n",
    "    qc = QuantumCircuit(2,2)\n",
    "\n",
    "    # gates for finding 3\n",
    "    qc.cz(0,1)\n",
    "    qc.barrier()\n",
    "\n",
    "    return qc\n",
    "\n",
    "oracleCircuit3 = groverOracle3()\n",
    "oracleCircuit3.draw(output='mpl')"
   ],
   "outputs": []
  },
  {
   "cell_type": "code",
   "execution_count": 5,
   "id": "3780e730-723a-4c50-966c-484e14d9d928",
   "metadata": {},
   "source": [
    "def grover_oracle(marked_states):\n",
    "    \"\"\"Build a Grover oracle for multiple marked states\n",
    "\n",
    "    Here we assume all input marked states have the same number of bits\n",
    "\n",
    "    Parameters:\n",
    "        marked_states (str or list): Marked states of oracle\n",
    "\n",
    "    Returns:\n",
    "        QuantumCircuit: Quantum circuit representing Grover oracle\n",
    "    \"\"\"\n",
    "    if not isinstance(marked_states, list):\n",
    "        marked_states = [marked_states]\n",
    "    # Compute the number of qubits in circuit\n",
    "    num_qubits = len(marked_states[0])\n",
    "\n",
    "    qc = QuantumCircuit(num_qubits)\n",
    "    # Mark each target state in the input list\n",
    "    for target in marked_states:\n",
    "        # Flip target bit-string to match Qiskit bit-ordering\n",
    "        rev_target = target[::-1]\n",
    "        # Find the indices of all the '0' elements in bit-string\n",
    "        zero_inds = [ind for ind in range(num_qubits) if rev_target.startswith(\"0\", ind)]\n",
    "        # Add a multi-controlled Z-gate with pre- and post-applied X-gates (open-controls)\n",
    "        # where the target bit-string has a '0' entry\n",
    "        qc.x(zero_inds)\n",
    "        qc.compose(MCMT(ZGate(), num_qubits - 1, 1), inplace=True)\n",
    "        qc.x(zero_inds)\n",
    "    return qc"
   ],
   "outputs": []
  },
  {
   "cell_type": "markdown",
   "id": "b864ed69-495d-4a2b-8d77-ce51ed46d539",
   "metadata": {},
   "source": [
    "- verify oracle above"
   ]
  },
  {
   "cell_type": "code",
   "execution_count": 6,
   "id": "3accddcb-659f-4d51-a33f-7cbad8085e29",
   "metadata": {},
   "source": [
    "from qiskit.quantum_info import Operator\n",
    "\n",
    "transMat = Operator(oracleCircuit3).data\n",
    "transMat"
   ],
   "outputs": []
  },
  {
   "cell_type": "code",
   "execution_count": 7,
   "id": "211d4e2a-f737-49f4-b8d4-cadde7f5cdd9",
   "metadata": {},
   "source": [
    "from functools import reduce\n",
    "import numpy as np\n",
    "\n",
    "Kron = lambda *matrices: reduce(np.kron, matrices) # tensor product\n",
    "state_0 = np.array([1, 0]) # |0>\n",
    "state_1 = np.array([0, 1]) # |1>\n",
    "\n",
    "# all possible states\n",
    "state_00 = Kron(state_0, state_0) # |00>\n",
    "state_01 = Kron(state_0, state_1) # |01>\n",
    "state_10 = Kron(state_1, state_0) # |10>\n",
    "state_11 = Kron(state_1, state_1) # |11>\n",
    "\n",
    "print(\"O|00>\", transMat @ state_00) # @ 为矩阵乘法计算\n",
    "print(\"O|01>\", transMat @ state_01)\n",
    "print(\"O|10>\", transMat @ state_10)\n",
    "print(\"O|11>\", transMat @ state_11) # flip phase"
   ],
   "outputs": []
  },
  {
   "cell_type": "markdown",
   "id": "2256de3f-c5df-4dcc-9cdc-6e0966ed2a3b",
   "metadata": {},
   "source": [
    "- Inversion about Mean\n",
    "  - 2A-I"
   ]
  },
  {
   "cell_type": "code",
   "execution_count": 8,
   "id": "16b6edd5-c04b-4641-896e-09d4cbdffc36",
   "metadata": {},
   "source": [
    "# build IaM circuit\n",
    "def buildIaM(n):\n",
    "    # params: n - num of qubits\n",
    "    qc = QuantumCircuit(n,n)\n",
    "    qcIndex = list(range(n))\n",
    "    mat = np.full((2**n, 2**n), (2/(2**n)))\n",
    "    np.fill_diagonal(mat, (2/(2**n))-1)\n",
    "    IaMGate = Operator(mat)\n",
    "    qc.append(IaMGate, qcIndex)\n",
    "    return qc\n",
    "\n",
    "IaMCircuit = buildIaM(3)\n",
    "IaMCircuit.draw(output='mpl')"
   ],
   "outputs": []
  },
  {
   "cell_type": "markdown",
   "id": "6262ddba-8f42-4183-acfd-6ff9272cb5da",
   "metadata": {},
   "source": [
    "- combine all together"
   ]
  },
  {
   "cell_type": "code",
   "execution_count": 9,
   "id": "98bcf6ec-4039-445d-9925-33c37787b3cc",
   "metadata": {},
   "source": [
    "def composeCircuit(n, oracle):\n",
    "    qc = QuantumCircuit(n,n)\n",
    "    initial = initQC(n)\n",
    "    # oracle = groverOracle3()\n",
    "    iam = buildIaM(n)\n",
    "    qc = qc.compose(initial)\n",
    "    qc = qc.compose(oracle)\n",
    "    qc = qc.compose(iam)\n",
    "    qc.measure_all()\n",
    "    return qc\n",
    "\n",
    "oracle3 = groverOracle3()\n",
    "qc = composeCircuit(2, oracle3)\n",
    "qc.draw(output='mpl')\n"
   ],
   "outputs": []
  },
  {
   "cell_type": "markdown",
   "id": "3d8fd123-75e2-4311-9220-c2e7e8e54d93",
   "metadata": {},
   "source": [
    "- run sample on simulator"
   ]
  },
  {
   "cell_type": "code",
   "execution_count": 10,
   "id": "38ac0ced-38ac-4e2e-9dc8-7b39f19cc81d",
   "metadata": {},
   "source": [
    "from qiskit_ibm_runtime import SamplerV2 as Sampler\n",
    "\n",
    "sampler = Sampler(backend=simulator)\n",
    "sampler.options.default_shots = 10_000\n",
    "result = sampler.run([qc]).result()\n",
    "dist = result[0].data.meas.get_counts()\n",
    "plot_distribution(dist)"
   ],
   "outputs": []
  },
  {
   "cell_type": "code",
   "execution_count": 19,
   "id": "7f3fb28c-028d-425b-bc4f-e5a18d1aae89",
   "metadata": {},
   "source": [
    "marked_states = [\"011\"]\n",
    "oracle = grover_oracle(marked_states)\n",
    "qc2 = composeCircuit(3, oracle)\n",
    "qc2.draw(output='mpl')"
   ],
   "outputs": []
  },
  {
   "cell_type": "code",
   "execution_count": 20,
   "id": "4d83f655-18dc-4920-ac5b-715752171d64",
   "metadata": {},
   "source": [
    "from qiskit_ibm_runtime import SamplerV2 as Sampler\n",
    "\n",
    "sampler = Sampler(backend=simulator)\n",
    "sampler.options.default_shots = 10000\n",
    "result = sampler.run([qc2]).result()\n",
    "dist = result[0].data.meas.get_counts()\n",
    "print(result)\n",
    "plot_distribution(dist)"
   ],
   "outputs": []
  },
  {
   "cell_type": "code",
   "execution_count": 24,
   "id": "f78db3ff-72de-44eb-b310-7d01d8c16b9d",
   "metadata": {},
   "source": [
    "# -Controlled-Z\n",
    "def buildRevCZ():\n",
    "    # params: n - num of qubits\n",
    "    qc = QuantumCircuit(2,2)\n",
    "    qcIndex = list(range(2))\n",
    "    mat = np.zeros((4,4))\n",
    "    np.fill_diagonal(mat, -1)\n",
    "    # print(mat)\n",
    "    IaMGate = Operator(mat)\n",
    "    qc.append(IaMGate, qcIndex)\n",
    "    return qc\n",
    "\n",
    "qc = buildRevCZ()\n",
    "qc.decompose().draw(output='mpl')"
   ],
   "outputs": []
  },
  {
   "cell_type": "code",
   "execution_count": 65,
   "id": "8d2f82bc-a24b-4cb7-9490-2d7b361832a1",
   "metadata": {},
   "source": [
    "from qiskit import QuantumCircuit\n",
    "from qiskit_aer import Aer\n",
    "from qiskit.visualization import plot_histogram\n",
    "\n",
    "# 创建量子电路\n",
    "qc = QuantumCircuit(2, 2)\n",
    "\n",
    "# 对量子比特应用Hadamard门\n",
    "qc.h(0)\n",
    "\n",
    "# 应用Ry门进行旋转\n",
    "theta = 0.25  # 假设x=1，0.25是多项式中的系数\n",
    "qc.ry(theta, 0)\n",
    "\n",
    "# 测量\n",
    "qc.measure(0, 1)\n",
    "\n",
    "# 运行模拟器\n",
    "simulator = Aer.get_backend('qasm_simulator')\n",
    "sampler = Sampler(backend=simulator)\n",
    "sampler.options.default_shots = 10000\n",
    "result1 = sampler.run([qc]).result()\n",
    "dist1 = result1[0].data.meas.get_counts()\n",
    "\n",
    "# 显示结果\n",
    "plot_histogram(dist1)"
   ],
   "outputs": []
  },
  {
   "cell_type": "markdown",
   "id": "62fde955-93c0-4ccf-95a0-fd0e22a2c713",
   "metadata": {},
   "source": [
    "- test on 2 qubit circuit"
   ]
  },
  {
   "cell_type": "code",
   "execution_count": 55,
   "id": "ac90eec7-1e15-43f3-9f22-77a2e0ee039f",
   "metadata": {},
   "source": [
    "oracle2 = groverOracle3()\n",
    "qc3 = composeCircuit(2, oracle2)\n",
    "qc3.draw(output='mpl')"
   ],
   "outputs": []
  },
  {
   "cell_type": "code",
   "execution_count": null,
   "id": "91615ffe-e9bd-407f-a257-275f935b7913",
   "metadata": {},
   "source": [],
   "outputs": []
  }
 ],
 "metadata": {
  "kernelspec": {
   "display_name": "Python 3 (ipykernel)",
   "language": "python",
   "name": "python3"
  },
  "language_info": {
   "codemirror_mode": {
    "name": "ipython",
    "version": 3
   },
   "file_extension": ".py",
   "mimetype": "text/x-python",
   "name": "python",
   "nbconvert_exporter": "python",
   "pygments_lexer": "ipython3",
   "version": "3.10.14"
  }
 },
 "nbformat": 4,
 "nbformat_minor": 5
}

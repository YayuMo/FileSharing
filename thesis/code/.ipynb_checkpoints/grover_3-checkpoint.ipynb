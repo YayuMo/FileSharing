{
 "cells": [
  {
   "cell_type": "code",
   "execution_count": 2,
   "id": "37d16f8b-d287-42e0-9caf-7d833b1745dc",
   "metadata": {},
   "outputs": [],
   "source": [
    "import qiskit\n",
    "from qiskit import QuantumCircuit\n",
    "from qiskit_aer import Aer\n",
    "from qiskit.visualization import plot_histogram"
   ]
  },
  {
   "cell_type": "markdown",
   "id": "9fae0ef6-23a3-43af-87b8-85423979dbb1",
   "metadata": {},
   "source": [
    "- get simulator"
   ]
  },
  {
   "cell_type": "code",
   "execution_count": 3,
   "id": "792d95bd-1bff-40c7-b7f5-ed8e135659ee",
   "metadata": {},
   "outputs": [],
   "source": [
    "simulator = Aer.get_backend('qasm_simulator')"
   ]
  },
  {
   "cell_type": "markdown",
   "id": "a589e8f5-e55e-4d78-8ef1-6ee22640b0af",
   "metadata": {},
   "source": [
    "- build superposition"
   ]
  },
  {
   "cell_type": "code",
   "execution_count": 12,
   "id": "d900b1e8-3976-45d9-9f7d-6d951fae9edb",
   "metadata": {},
   "outputs": [
    {
     "data": {
      "image/png": "[encoded data removed]",
      "text/plain": [
       "<Figure size 287.294x284.278 with 1 Axes>"
      ]
     },
     "execution_count": 12,
     "metadata": {},
     "output_type": "execute_result"
    }
   ],
   "source": [
    "def initQC(n):\n",
    "    # params: n -- num of qubits\n",
    "    qc = QuantumCircuit(n, n)\n",
    "\n",
    "    for i in range(n):\n",
    "        qc.h(i)\n",
    "    qc.barrier() # differentiate area\n",
    "    return qc\n",
    "\n",
    "initCircuit2Q = initQC(2)\n",
    "initCircuit2Q.draw(output='mpl')"
   ]
  },
  {
   "cell_type": "markdown",
   "id": "46a0df08-2817-45c4-bf5d-dafa4623ed33",
   "metadata": {},
   "source": [
    "- build oracle to search $\\ket{11}$ - as example"
   ]
  },
  {
   "cell_type": "code",
   "execution_count": 13,
   "id": "f14efcb7-7d19-425d-99f9-91b7e8f2678f",
   "metadata": {},
   "outputs": [
    {
     "data": {
      "image/png": "[encoded data removed]",
      "text/plain": [
       "<Figure size 287.294x284.278 with 1 Axes>"
      ]
     },
     "execution_count": 13,
     "metadata": {},
     "output_type": "execute_result"
    }
   ],
   "source": [
    "def groverOracle3():\n",
    "    qc = QuantumCircuit(2,2)\n",
    "\n",
    "    # gates for finding 3\n",
    "    qc.cz(0,1)\n",
    "    qc.barrier()\n",
    "\n",
    "    return qc\n",
    "\n",
    "oracleCircuit3 = groverOracle3()\n",
    "oracleCircuit3.draw(output='mpl')"
   ]
  },
  {
   "cell_type": "markdown",
   "id": "b864ed69-495d-4a2b-8d77-ce51ed46d539",
   "metadata": {},
   "source": [
    "- verify oracle above"
   ]
  },
  {
   "cell_type": "code",
   "execution_count": 8,
   "id": "3accddcb-659f-4d51-a33f-7cbad8085e29",
   "metadata": {},
   "outputs": [
    {
     "data": {
      "text/plain": [
       "array([[ 1.+0.j,  0.+0.j,  0.+0.j,  0.+0.j],\n",
       "       [ 0.+0.j,  1.+0.j,  0.+0.j,  0.+0.j],\n",
       "       [ 0.+0.j,  0.+0.j,  1.+0.j,  0.+0.j],\n",
       "       [ 0.+0.j,  0.+0.j,  0.+0.j, -1.+0.j]])"
      ]
     },
     "execution_count": 8,
     "metadata": {},
     "output_type": "execute_result"
    }
   ],
   "source": [
    "from qiskit.quantum_info import Operator\n",
    "\n",
    "transMat = Operator(oracleCircuit3).data\n",
    "transMat"
   ]
  },
  {
   "cell_type": "code",
   "execution_count": 9,
   "id": "211d4e2a-f737-49f4-b8d4-cadde7f5cdd9",
   "metadata": {},
   "outputs": [
    {
     "name": "stdout",
     "output_type": "stream",
     "text": [
      "O|00> [1.+0.j 0.+0.j 0.+0.j 0.+0.j]\n",
      "O|01> [0.+0.j 1.+0.j 0.+0.j 0.+0.j]\n",
      "O|10> [0.+0.j 0.+0.j 1.+0.j 0.+0.j]\n",
      "O|11> [ 0.+0.j  0.+0.j  0.+0.j -1.+0.j]\n"
     ]
    }
   ],
   "source": [
    "from functools import reduce\n",
    "import numpy as np\n",
    "\n",
    "Kron = lambda *matrices: reduce(np.kron, matrices) # tensor prodect\n",
    "state_0 = np.array([1, 0]) # |0>\n",
    "state_1 = np.array([0, 1]) # |1>\n",
    "\n",
    "# all possible states\n",
    "state_00 = Kron(state_0, state_0) # |00>\n",
    "state_01 = Kron(state_0, state_1) # |01>\n",
    "state_10 = Kron(state_1, state_0) # |10>\n",
    "state_11 = Kron(state_1, state_1) # |11>\n",
    "\n",
    "print(\"O|00>\", transMat @ state_00) # @ 为矩阵乘法计算\n",
    "print(\"O|01>\", transMat @ state_01)\n",
    "print(\"O|10>\", transMat @ state_10)\n",
    "print(\"O|11>\", transMat @ state_11) # flip phase"
   ]
  },
  {
   "cell_type": "markdown",
   "id": "2256de3f-c5df-4dcc-9cdc-6e0966ed2a3b",
   "metadata": {},
   "source": [
    "- Inversion about Mean\n",
    "  - 2A-I"
   ]
  },
  {
   "cell_type": "code",
   "execution_count": 53,
   "id": "16b6edd5-c04b-4641-896e-09d4cbdffc36",
   "metadata": {},
   "outputs": [
    {
     "data": {
      "text/plain": [
       "array([[-0.75,  0.25,  0.25,  0.25,  0.25,  0.25,  0.25,  0.25],\n",
       "       [ 0.25, -0.75,  0.25,  0.25,  0.25,  0.25,  0.25,  0.25],\n",
       "       [ 0.25,  0.25, -0.75,  0.25,  0.25,  0.25,  0.25,  0.25],\n",
       "       [ 0.25,  0.25,  0.25, -0.75,  0.25,  0.25,  0.25,  0.25],\n",
       "       [ 0.25,  0.25,  0.25,  0.25, -0.75,  0.25,  0.25,  0.25],\n",
       "       [ 0.25,  0.25,  0.25,  0.25,  0.25, -0.75,  0.25,  0.25],\n",
       "       [ 0.25,  0.25,  0.25,  0.25,  0.25,  0.25, -0.75,  0.25],\n",
       "       [ 0.25,  0.25,  0.25,  0.25,  0.25,  0.25,  0.25, -0.75]])"
      ]
     },
     "execution_count": 53,
     "metadata": {},
     "output_type": "execute_result"
    }
   ],
   "source": [
    "# build IaM circuit\n",
    "def buildIaM(n):\n",
    "    # params: n - num of qubits\n",
    "    qc = QuantumCircuit(n,n)\n",
    "    qcIndex = list(range(n))\n",
    "    mat = np.full((2**n, 2**n), (2/(2**n)))\n",
    "    np.fill_diagonal(mat, (2/(2**n))-1)\n",
    "    IaMGate = Operator(mat)\n",
    "    qc.append(IaMGate, qcIndex)\n",
    "    return qc\n",
    "\n",
    "IaMCircuit = buildIaM(3)\n",
    "IaMCircuit.draw(output='mpl')"
   ]
  },
  {
   "cell_type": "markdown",
   "id": "6262ddba-8f42-4183-acfd-6ff9272cb5da",
   "metadata": {},
   "source": [
    "- combine all together"
   ]
  },
  {
   "cell_type": "code",
   "execution_count": null,
   "id": "98bcf6ec-4039-445d-9925-33c37787b3cc",
   "metadata": {},
   "outputs": [],
   "source": [
    "def composeCircuit(qc1, qc2, qc3):\n",
    "    return qc1.compose(qc2)\n",
    "\n"
   ]
  }
 ],
 "metadata": {
  "kernelspec": {
   "display_name": "Python 3 (ipykernel)",
   "language": "python",
   "name": "python3"
  },
  "language_info": {
   "codemirror_mode": {
    "name": "ipython",
    "version": 3
   },
   "file_extension": ".py",
   "mimetype": "text/x-python",
   "name": "python",
   "nbconvert_exporter": "python",
   "pygments_lexer": "ipython3",
   "version": "3.10.14"
  }
 },
 "nbformat": 4,
 "nbformat_minor": 5
}
